{
 "cells": [
  {
   "cell_type": "markdown",
   "metadata": {},
   "source": [
    "<font color='blue' size=5><b>Комментарий ревьюера</b></font>\n",
    "\n",
    "<font color='blue'>Привет! Меня зовут Тимофей Вилков, и я буду проверять твой проект. Спасибо за проделанную работу! Предлагаю общаться на «ты».</font>\n",
    "\n",
    "<font color='blue'>Я буду использовать различные цвета, чтобы было удобнее воспринимать мои комментарии:</font>\n",
    "\n",
    "\n",
    "\n",
    "<div class=\"alert alert-block alert-success\">\n",
    "✔️ <b>Зеленый текст</b> - все отлично\n",
    "</div>\n",
    "\n",
    "<div class=\"alert alert-block alert-warning\">\n",
    "⚠️ <b>Желтый текст</b> - сделано все правильно, однако есть рекомендации, на что стоит обратить внимание\n",
    "</div>\n",
    "\n",
    "<div class=\"alert alert-block alert-danger\">\n",
    "❌ <b>Красный текст</b> - красный текст - есть недочеты\n",
    "</div>\n",
    "\n",
    "---\n",
    "\n",
    "<font color='blue'>Пожалуйста, не удаляй мои комментарии в случае возврата работы, так будет проще разобраться, какие были недочеты, а также сразу увидеть исправленное. </font>\n",
    "\n",
    "Ответы на мои комментарии лучше тоже помечать.\n",
    "Например:\n",
    "\n",
    "<div class=\"alert alert-block alert-info\">\n",
    "<b>Комментарий студента:</b> \n",
    "\n",
    "</div>\n",
    "\n",
    "<font color='blue'><b>Давай смотреть, что получилось!</b></font>"
   ]
  },
  {
   "cell_type": "markdown",
   "metadata": {},
   "source": [
    "# Рекомендация тарифов"
   ]
  },
  {
   "cell_type": "markdown",
   "metadata": {},
   "source": [
    "В вашем распоряжении данные о поведении клиентов, которые уже перешли на эти тарифы (из проекта курса «Статистический анализ данных»). Нужно построить модель для задачи классификации, которая выберет подходящий тариф. Предобработка данных не понадобится — вы её уже сделали.\n",
    "\n",
    "Постройте модель с максимально большим значением *accuracy*. Чтобы сдать проект успешно, нужно довести долю правильных ответов по крайней мере до 0.75. Проверьте *accuracy* на тестовой выборке самостоятельно."
   ]
  },
  {
   "cell_type": "markdown",
   "metadata": {},
   "source": [
    "## Откройте и изучите файл"
   ]
  },
  {
   "cell_type": "code",
   "execution_count": 13,
   "metadata": {},
   "outputs": [],
   "source": [
    "import pandas as pd\n",
    "from sklearn.model_selection import train_test_split\n",
    "from sklearn.metrics import accuracy_score\n",
    "from sklearn.linear_model import LogisticRegression\n",
    "from sklearn.tree import DecisionTreeClassifier\n",
    "from sklearn.ensemble import RandomForestClassifier\n",
    "import warnings\n",
    "warnings.filterwarnings('ignore')"
   ]
  },
  {
   "cell_type": "markdown",
   "metadata": {},
   "source": [
    "<div class=\"alert alert-block alert-success\">\n",
    "✔️ Молодец, что добавил содержание. Так работать с проектом гораздо удобнее\n",
    "</div>"
   ]
  },
  {
   "cell_type": "code",
   "execution_count": 40,
   "metadata": {},
   "outputs": [
    {
     "data": {
      "text/html": [
       "<div>\n",
       "<style scoped>\n",
       "    .dataframe tbody tr th:only-of-type {\n",
       "        vertical-align: middle;\n",
       "    }\n",
       "\n",
       "    .dataframe tbody tr th {\n",
       "        vertical-align: top;\n",
       "    }\n",
       "\n",
       "    .dataframe thead th {\n",
       "        text-align: right;\n",
       "    }\n",
       "</style>\n",
       "<table border=\"1\" class=\"dataframe\">\n",
       "  <thead>\n",
       "    <tr style=\"text-align: right;\">\n",
       "      <th></th>\n",
       "      <th>calls</th>\n",
       "      <th>minutes</th>\n",
       "      <th>messages</th>\n",
       "      <th>mb_used</th>\n",
       "      <th>is_ultra</th>\n",
       "    </tr>\n",
       "  </thead>\n",
       "  <tbody>\n",
       "    <tr>\n",
       "      <th>0</th>\n",
       "      <td>40.0</td>\n",
       "      <td>311.90</td>\n",
       "      <td>83.0</td>\n",
       "      <td>19915.42</td>\n",
       "      <td>0</td>\n",
       "    </tr>\n",
       "    <tr>\n",
       "      <th>1</th>\n",
       "      <td>85.0</td>\n",
       "      <td>516.75</td>\n",
       "      <td>56.0</td>\n",
       "      <td>22696.96</td>\n",
       "      <td>0</td>\n",
       "    </tr>\n",
       "    <tr>\n",
       "      <th>2</th>\n",
       "      <td>77.0</td>\n",
       "      <td>467.66</td>\n",
       "      <td>86.0</td>\n",
       "      <td>21060.45</td>\n",
       "      <td>0</td>\n",
       "    </tr>\n",
       "    <tr>\n",
       "      <th>3</th>\n",
       "      <td>106.0</td>\n",
       "      <td>745.53</td>\n",
       "      <td>81.0</td>\n",
       "      <td>8437.39</td>\n",
       "      <td>1</td>\n",
       "    </tr>\n",
       "    <tr>\n",
       "      <th>4</th>\n",
       "      <td>66.0</td>\n",
       "      <td>418.74</td>\n",
       "      <td>1.0</td>\n",
       "      <td>14502.75</td>\n",
       "      <td>0</td>\n",
       "    </tr>\n",
       "  </tbody>\n",
       "</table>\n",
       "</div>"
      ],
      "text/plain": [
       "   calls  minutes  messages   mb_used  is_ultra\n",
       "0   40.0   311.90      83.0  19915.42         0\n",
       "1   85.0   516.75      56.0  22696.96         0\n",
       "2   77.0   467.66      86.0  21060.45         0\n",
       "3  106.0   745.53      81.0   8437.39         1\n",
       "4   66.0   418.74       1.0  14502.75         0"
      ]
     },
     "metadata": {},
     "output_type": "display_data"
    },
    {
     "name": "stdout",
     "output_type": "stream",
     "text": [
      "3214\n"
     ]
    }
   ],
   "source": [
    "user_behavior = pd.read_csv('/datasets/users_behavior.csv')\n",
    "display(user_behavior.head(5))\n",
    "print(len(user_behavior))"
   ]
  },
  {
   "cell_type": "markdown",
   "metadata": {},
   "source": [
    "<div class=\"alert alert-block alert-success\">\n",
    "✔️ Данные на месте, отлично!\n",
    "</div>"
   ]
  },
  {
   "cell_type": "markdown",
   "metadata": {},
   "source": [
    "<div class=\"alert alert-block alert-warning\">\n",
    "⚠️ Советую проводить хотя бы минимальный EDA перед обучением модели, понимание структуры/особенностей/качества данных способствует улучшению качества модели\n",
    "</div>"
   ]
  },
  {
   "cell_type": "markdown",
   "metadata": {},
   "source": [
    "## Разбейте данные на выборки"
   ]
  },
  {
   "cell_type": "code",
   "execution_count": 7,
   "metadata": {},
   "outputs": [],
   "source": [
    "features = user_behavior.drop('is_ultra',axis=1)\n",
    "target = user_behavior['is_ultra']\n",
    "train_X, test_X, train_y, test_y = train_test_split(features,target,random_state=12345,test_size=0.25)\n",
    "train_X, valid_X, train_y, valid_y = train_test_split(train_X,train_y,random_state=12345,test_size=0.25)"
   ]
  },
  {
   "cell_type": "markdown",
   "metadata": {},
   "source": [
    "<div class=\"alert alert-block alert-success\">\n",
    "✔️ С соотношением согласен, но также советую использовать стратификацию по целевой переменной (параметр stratify)\n",
    "</div>"
   ]
  },
  {
   "cell_type": "markdown",
   "metadata": {},
   "source": [
    "<div class=\"alert alert-block alert-success\">\n",
    "✔️ Разбиение выборки на обучающую, валидационную и тестовую реализовано правильно\n",
    "</div>"
   ]
  },
  {
   "cell_type": "markdown",
   "metadata": {},
   "source": [
    "## Исследуйте модели"
   ]
  },
  {
   "cell_type": "code",
   "execution_count": 35,
   "metadata": {},
   "outputs": [
    {
     "name": "stdout",
     "output_type": "stream",
     "text": [
      "Accuracy наилучшей модели на валидационной выборке:0.8092868988391376\n",
      "Лучшая модель:RandomForestClassifier(max_depth=5, max_features='sqrt', n_estimators=9,\n",
      "                       random_state=12345)\n"
     ]
    }
   ],
   "source": [
    "# Random Forest Classifier\n",
    "best_model_rf = None\n",
    "best_result = 0\n",
    "for est in range(1, 11):\n",
    "    for depth in range(1, 6):\n",
    "        for feature in ['auto', 'sqrt']:\n",
    "            model = RandomForestClassifier(random_state=12345, n_estimators=est, max_depth=depth,max_features=feature)\n",
    "            model.fit(train_X,train_y)\n",
    "            result = model.score(valid_X,valid_y)\n",
    "    if result > best_result:\n",
    "        best_model_rf = model\n",
    "        best_result = result\n",
    "print(f'Accuracy наилучшей модели на валидационной выборке:{best_result}')\n",
    "print(f'Лучшая модель:{best_model_rf}')"
   ]
  },
  {
   "cell_type": "markdown",
   "metadata": {},
   "source": [
    "<div class=\"alert alert-block alert-success\">\n",
    "✔️ Обучение и подбор гиперпараметров реализованы верно, молодец!\n",
    "</div>"
   ]
  },
  {
   "cell_type": "code",
   "execution_count": 36,
   "metadata": {},
   "outputs": [
    {
     "name": "stdout",
     "output_type": "stream",
     "text": [
      "Accuracy наилучшей модели на валидационной выборке:0.7943615257048093\n",
      "Лучшая модель:DecisionTreeClassifier(max_depth=3, random_state=12345)\n"
     ]
    }
   ],
   "source": [
    "# Decision Tree Classifier\n",
    "best_model_dt = None\n",
    "best_result = 0\n",
    "for depth in range(1, 6):\n",
    "    model = DecisionTreeClassifier(random_state=12345, max_depth=depth)\n",
    "    model.fit(train_X,train_y)\n",
    "    result = model.score(valid_X,valid_y)\n",
    "    if result > best_result:\n",
    "        best_model_dt = model\n",
    "        best_result = result\n",
    "print(f'Accuracy наилучшей модели на валидационной выборке:{best_result}')\n",
    "print(f'Лучшая модель:{best_model_dt}')"
   ]
  },
  {
   "cell_type": "markdown",
   "metadata": {},
   "source": [
    "<div class=\"alert alert-block alert-success\">\n",
    "✔️ Также можно получать оценки принадлежности классам с помощью <code>predict_proba()</code> и настраивать порог для бинаризации самостоятельно. Это может дать существенный прирост в метрике. По умолчанию (в predict) порогом является 0.5 \n",
    "</div>"
   ]
  },
  {
   "cell_type": "code",
   "execution_count": 37,
   "metadata": {},
   "outputs": [
    {
     "name": "stdout",
     "output_type": "stream",
     "text": [
      "Accuracy наилучшей модели на валидационной выборке:0.7412935323383084\n",
      "Лучшая модель:LogisticRegression(max_iter=2750, random_state=12345, solver='newton-cg')\n"
     ]
    }
   ],
   "source": [
    "# Logistic Regression\n",
    "best_model_lr = None\n",
    "best_result = 0\n",
    "for solv in ['newton-cg', 'lbfgs', 'liblinear', 'sag', 'saga']:\n",
    "    for iterations in range(250,3000,250):\n",
    "        model = LogisticRegression(random_state=12345, solver=solv,max_iter=iterations)\n",
    "        model.fit(train_X,train_y)\n",
    "        result = model.score(valid_X,valid_y)\n",
    "    if result > best_result:\n",
    "        best_model_lr = model\n",
    "        best_result = result\n",
    "print(f'Accuracy наилучшей модели на валидационной выборке:{best_result}')\n",
    "print(f'Лучшая модель:{best_model_lr}')"
   ]
  },
  {
   "cell_type": "markdown",
   "metadata": {},
   "source": [
    "<div class=\"alert alert-block alert-warning\">\n",
    "⚠️  По умолчанию LogisticRegression реализует алгоритм с регуляризацией (penalty='l2'), чтобы решение было корректным нужно привести признаки к одному масштабу. Если же хочешь использовать классический вариант логистической регрессии стоит использовать penalty='none'\n",
    "</div>"
   ]
  },
  {
   "cell_type": "markdown",
   "metadata": {},
   "source": [
    "## Проверьте модель на тестовой выборке"
   ]
  },
  {
   "cell_type": "code",
   "execution_count": 38,
   "metadata": {},
   "outputs": [
    {
     "name": "stdout",
     "output_type": "stream",
     "text": [
      "Accuracy Random Forest Classifier на тестовой выборке:0.7922885572139303\n",
      "Accuracy Decision Tree Classifier на тестовой выборке:0.7910447761194029\n",
      "Accuracy Logistic Regression на тестовой выборке:0.7611940298507462\n"
     ]
    }
   ],
   "source": [
    "print(f'Accuracy Random Forest Classifier на тестовой выборке:{best_model_rf.score(test_X,test_y)}')\n",
    "print(f'Accuracy Decision Tree Classifier на тестовой выборке:{best_model_dt.score(test_X,test_y)}')\n",
    "print(f'Accuracy Logistic Regression на тестовой выборке:{best_model_lr.score(test_X,test_y)}')"
   ]
  },
  {
   "cell_type": "markdown",
   "metadata": {},
   "source": [
    "Как и на валиационной выборке лучше всего отработала модель Random Forest Classifier с accuracy 79,2%. Однако, Decision Tree Classifier отстал совсем немного на ~0.13%. Это говорит о том, что глубоких лесов нам для наших данных не нужно, достаточно одного дерева) Также, минимальная разница в accuracy на валидационной и тестовой выборках говорит о том, что данные не переобучены и не недообучены."
   ]
  },
  {
   "cell_type": "markdown",
   "metadata": {},
   "source": [
    "<div class=\"alert alert-block alert-success\">\n",
    "✔️ Необходимое значение метрики достигнуто!\n",
    "</div>"
   ]
  },
  {
   "cell_type": "markdown",
   "metadata": {},
   "source": [
    "## (бонус) Проверьте модели на адекватность"
   ]
  },
  {
   "cell_type": "markdown",
   "metadata": {},
   "source": [
    "Не понял, что от меня требуется сделать..."
   ]
  },
  {
   "cell_type": "markdown",
   "metadata": {},
   "source": [
    "<div class=\"alert alert-block alert-success\">\n",
    "✔️ На мой взгляд, проверка на адекватность — это попытка понять как работает модель (её интерпретация), а не подсчёт классических метрик. Для линейных моделей можно интерпретировать работу модели через величину коэффициентов (только признаки нужно отшкалировать), для деревянных ансамблей через feature importance. Также есть различные техники позволяющие интепретировать любой чёрный ящик, например, shap values или permutation feature importance \n",
    "</div>"
   ]
  },
  {
   "cell_type": "markdown",
   "metadata": {},
   "source": [
    "## Чек-лист готовности проекта"
   ]
  },
  {
   "cell_type": "markdown",
   "metadata": {},
   "source": [
    "Поставьте 'x' в выполненных пунктах. Далее нажмите Shift+Enter."
   ]
  },
  {
   "cell_type": "markdown",
   "metadata": {},
   "source": [
    "- [x] Jupyter Notebook открыт\n",
    "- [ ] Весь код исполняется без ошибок\n",
    "- [ ] Ячейки с кодом расположены в порядке исполнения\n",
    "- [ ] Выполнено задание 1: данные загружены и изучены\n",
    "- [ ] Выполнено задание 2: данные разбиты на три выборки\n",
    "- [ ] Выполнено задание 3: проведено исследование моделей\n",
    "    - [ ] Рассмотрено больше одной модели\n",
    "    - [ ] Рассмотрено хотя бы 3 значения гипепараметров для какой-нибудь модели\n",
    "    - [ ] Написаны выводы по результатам исследования\n",
    "- [ ] Выполнено задание 3: Проведено тестирование\n",
    "- [ ] Удалось достичь accuracy не меньше 0.75\n"
   ]
  },
  {
   "cell_type": "markdown",
   "metadata": {},
   "source": [
    "<font color='blue'><b>Итоговый комментарий ревьюера</b></font>\\\n",
    "<font color='green'>Нурлан, отличный проект, видно, что ты можешь много показать. Чистый, аккуратный код и отличная структура. Модели машинного обучения верно применены (кроме нюанса с регуляризацией), необходимое качество целевой метрики достигнуто. Прикрепил статью, где подробно разобран дисбаланс классов для задачи бинарной классификации, в нём нет ничего критичного. В целом работа хорошая, серьёзных замечаний у меня нет:)\n",
    "Я верну тебе проект чтобы ты мог задать вопросы, если их нет, сразу по возвращении зачту его. "
   ]
  },
  {
   "cell_type": "markdown",
   "metadata": {},
   "source": [
    "<div class=\"alert alert-block alert-info\">\n",
    "<b>Спасибо за feedback, вопросов нет.</b> \n",
    "\n",
    "</div>"
   ]
  },
  {
   "cell_type": "markdown",
   "metadata": {},
   "source": [
    "<div class=\"alert alert-block alert-success\">\n",
    "✔️ Перевожу твой проект в статус \"зачтено\" и желаю дальнейших успехов в освоении курса!\n",
    "</div>"
   ]
  },
  {
   "cell_type": "code",
   "execution_count": null,
   "metadata": {},
   "outputs": [],
   "source": []
  }
 ],
 "metadata": {
  "ExecuteTimeLog": [
   {
    "duration": 132,
    "start_time": "2022-05-24T16:33:23.849Z"
   },
   {
    "duration": 4,
    "start_time": "2022-05-24T16:33:52.411Z"
   },
   {
    "duration": 146,
    "start_time": "2022-05-24T16:34:40.854Z"
   },
   {
    "duration": 26,
    "start_time": "2022-05-24T16:37:44.854Z"
   },
   {
    "duration": 22,
    "start_time": "2022-05-24T16:38:33.508Z"
   },
   {
    "duration": 7,
    "start_time": "2022-05-24T16:39:26.269Z"
   },
   {
    "duration": 7,
    "start_time": "2022-05-24T16:40:04.293Z"
   },
   {
    "duration": 47,
    "start_time": "2022-05-24T16:48:54.592Z"
   },
   {
    "duration": 751,
    "start_time": "2022-05-24T16:49:07.440Z"
   },
   {
    "duration": 36,
    "start_time": "2022-05-24T16:52:40.005Z"
   },
   {
    "duration": 7213,
    "start_time": "2022-05-24T16:56:43.754Z"
   },
   {
    "duration": 4,
    "start_time": "2022-05-24T16:57:52.188Z"
   },
   {
    "duration": 7470,
    "start_time": "2022-05-24T16:57:56.373Z"
   },
   {
    "duration": 12,
    "start_time": "2022-05-24T17:07:00.614Z"
   },
   {
    "duration": 731,
    "start_time": "2022-05-24T17:07:07.937Z"
   },
   {
    "duration": 28,
    "start_time": "2022-05-24T17:07:11.414Z"
   },
   {
    "duration": 7465,
    "start_time": "2022-05-24T17:07:14.749Z"
   },
   {
    "duration": 15,
    "start_time": "2022-05-24T17:07:26.424Z"
   },
   {
    "duration": 12,
    "start_time": "2022-05-24T17:09:36.706Z"
   },
   {
    "duration": 30,
    "start_time": "2022-05-24T17:13:01.872Z"
   },
   {
    "duration": 12,
    "start_time": "2022-05-24T17:13:47.538Z"
   },
   {
    "duration": 2027,
    "start_time": "2022-05-24T17:14:28.768Z"
   },
   {
    "duration": 2084,
    "start_time": "2022-05-24T17:14:42.094Z"
   },
   {
    "duration": 2712,
    "start_time": "2022-05-24T17:15:06.065Z"
   },
   {
    "duration": 3328,
    "start_time": "2022-05-24T17:15:23.486Z"
   },
   {
    "duration": 4211,
    "start_time": "2022-05-24T17:15:35.347Z"
   },
   {
    "duration": 4808,
    "start_time": "2022-05-24T17:15:46.700Z"
   },
   {
    "duration": 5774,
    "start_time": "2022-05-24T17:15:57.232Z"
   },
   {
    "duration": 6365,
    "start_time": "2022-05-24T17:16:08.609Z"
   },
   {
    "duration": 6672,
    "start_time": "2022-05-24T17:16:23.004Z"
   },
   {
    "duration": 2031,
    "start_time": "2022-05-24T17:16:55.776Z"
   },
   {
    "duration": 1332,
    "start_time": "2022-05-24T17:17:13.160Z"
   },
   {
    "duration": 1419,
    "start_time": "2022-05-24T17:17:21.630Z"
   },
   {
    "duration": 1540,
    "start_time": "2022-05-24T17:18:21.396Z"
   },
   {
    "duration": 41,
    "start_time": "2022-05-24T17:18:51.065Z"
   },
   {
    "duration": 7457,
    "start_time": "2022-05-24T17:18:58.888Z"
   },
   {
    "duration": 13,
    "start_time": "2022-05-24T17:19:10.370Z"
   },
   {
    "duration": 29,
    "start_time": "2022-05-24T17:28:23.860Z"
   },
   {
    "duration": 36,
    "start_time": "2022-05-24T17:28:33.339Z"
   }
  ],
  "kernelspec": {
   "display_name": "Python 3 (ipykernel)",
   "language": "python",
   "name": "python3"
  },
  "language_info": {
   "codemirror_mode": {
    "name": "ipython",
    "version": 3
   },
   "file_extension": ".py",
   "mimetype": "text/x-python",
   "name": "python",
   "nbconvert_exporter": "python",
   "pygments_lexer": "ipython3",
   "version": "3.9.5"
  },
  "toc": {
   "base_numbering": 1,
   "nav_menu": {},
   "number_sections": true,
   "sideBar": true,
   "skip_h1_title": true,
   "title_cell": "Table of Contents",
   "title_sidebar": "Contents",
   "toc_cell": false,
   "toc_position": {},
   "toc_section_display": true,
   "toc_window_display": false
  }
 },
 "nbformat": 4,
 "nbformat_minor": 2
}
